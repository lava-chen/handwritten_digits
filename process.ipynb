{
 "cells": [
  {
   "cell_type": "code",
   "execution_count": 8,
   "metadata": {},
   "outputs": [],
   "source": [
    "import idx2numpy\n",
    "import numpy as np\n",
    "import matplotlib.pyplot as plt\n",
    "import random\n",
    "import pickle\n"
   ]
  },
  {
   "cell_type": "code",
   "execution_count": 9,
   "metadata": {},
   "outputs": [
    {
     "name": "stdout",
     "output_type": "stream",
     "text": [
      "Number of train labels: (60000,)\n",
      "First 10 train labels: [5 0 4 1 9 2 1 3 1 4]\n",
      "Number of train images: (60000, 28, 28)\n",
      "Number of test labels: (10000,)\n"
     ]
    }
   ],
   "source": [
    "\n",
    "train_labels = idx2numpy.convert_from_file('./mnist_data/train-labels.idx1-ubyte')\n",
    "train_images = idx2numpy.convert_from_file('./mnist_data/train-images.idx3-ubyte')\n",
    "test_labels = idx2numpy.convert_from_file('./mnist_data/t10k-labels.idx1-ubyte')\n",
    "test_images = idx2numpy.convert_from_file('./mnist_data/t10k-images.idx3-ubyte')\n",
    "\n",
    "print(\"Number of train labels:\", train_labels.shape)# Number of labels: (60000,)\n",
    "print(\"First 10 train labels:\", train_labels[:10])# First 10 labels: [5 0 4 1 9 2 1 3 1 4]\n",
    "print(\"Number of train images:\", train_images.shape)# Number of images: (60000, 28, 28)\n",
    "print(\"Number of test labels:\", test_labels.shape)# Number of test labels: (10000,)"
   ]
  },
  {
   "cell_type": "code",
   "execution_count": 10,
   "metadata": {},
   "outputs": [
    {
     "data": {
      "image/png": "[encoded data removed]",
      "text/plain": [
       "<Figure size 1000x500 with 6 Axes>"
      ]
     },
     "metadata": {},
     "output_type": "display_data"
    }
   ],
   "source": [
    "\n",
    "num_images_to_display = 6\n",
    "fig, axes = plt.subplots(2, 3, figsize=(10, 5))\n",
    "for i in range(num_images_to_display):\n",
    "    ax = axes[i // 3, i % 3]\n",
    "    ax.imshow(train_images[i], cmap='gray')\n",
    "    ax.set_title(f'Label: {train_labels[i]}')\n",
    "    ax.axis('off') \n",
    "\n",
    "plt.show()"
   ]
  },
  {
   "cell_type": "code",
   "execution_count": 11,
   "metadata": {},
   "outputs": [],
   "source": [
    "\n",
    "\n",
    "class network(object):\n",
    "    def __init__(self,sizes) -> None:\n",
    "        self.num_layers = len(sizes)\n",
    "        self.sizes = sizes\n",
    "        self.biases = [np.random.randn(y,1) for y in sizes[1:]]\n",
    "        self.weights = [np.random.randn(y,x) for y,x in zip(sizes[1:],sizes[:-1])]\n",
    "    \n",
    "    def feedforward(self,a):\n",
    "        '''\n",
    "            一层一层的计算出神经网络的结果\n",
    "        '''\n",
    "        for b , w in zip(self.biases,self.weights):\n",
    "            a = sigmoid(np.dot(w,a)+b)\n",
    "        return a\n",
    "    \n",
    "    def SGD(self,training_data,epoches,mini_batch_size,eta,test_data=None):\n",
    "        '''\n",
    "            随机梯度下降函数\n",
    "            >超参数\n",
    "                epoches:整个训练数据集被遍历一次的过程\n",
    "                mini_batch_size:批大小\n",
    "                eta:learning_rate\n",
    "        '''\n",
    "        if test_data: n_test = len(test_data)\n",
    "        n = len(training_data)\n",
    "        for j in range(epoches):\n",
    "            random.shuffle(training_data)\n",
    "            mini_batches = [training_data[k:k+mini_batch_size] for k in range(0, n, mini_batch_size)]\n",
    "            for mini_batch in mini_batches:\n",
    "                self.update_mini_batch(mini_batch, eta)\n",
    "            if test_data:\n",
    "                print (\"Epoch {0}: {1} %\".format(j+1, 100*self.evaluate(test_data)/n_test))\n",
    "            else:\n",
    "                print (\"Epoch {0} complete\".format(j))\n",
    "\n",
    "    def update_mini_batch(self, mini_batch, eta):\n",
    "        '''\n",
    "            更新批次数据内的bias和wieght\n",
    "        '''\n",
    "        nabla_b = [np.zeros(b.shape) for b in self.biases]\n",
    "        nabla_w = [np.zeros(w.shape) for w in self.weights]\n",
    "        for x, y in mini_batch:\n",
    "            delta_nabla_b, delta_nabla_w = self.backprop(x, y)\n",
    "            nabla_b = [nb+dnb for nb, dnb in zip(nabla_b, delta_nabla_b)]\n",
    "            nabla_w = [nw+dnw for nw, dnw in zip(nabla_w, delta_nabla_w)]\n",
    "        self.weights = [w-(eta/len(mini_batch))*nw for w, nw in zip(self.weights, nabla_w)]\n",
    "        self.biases = [b-(eta/len(mini_batch))*nb for b, nb in zip(self.biases, nabla_b)]\n",
    "\n",
    "    def evaluate(self, test_data):\n",
    "        '''\n",
    "            对比正确率\n",
    "        '''\n",
    "        test_results = [(np.argmax(self.feedforward(x)), y) for (x, y) in test_data]\n",
    "        return sum(int(x == y) for (x, y) in test_results)\n",
    "\n",
    "    def backprop(self, x, y):\n",
    "        nabla_b = [np.zeros(b.shape) for b in self.biases]\n",
    "        nabla_w = [np.zeros(w.shape) for w in self.weights]\n",
    "        activation = x\n",
    "        activations = [x] # 一个列表，用于存储每一层的激活值\n",
    "        zs = [] # 一个列表，用于存储每一层的输入值\n",
    "\n",
    "        # 前向传播\n",
    "        for b, w in zip(self.biases, self.weights):\n",
    "            z = np.dot(w, activation)+b\n",
    "            zs.append(z) # 存储每一层的输入值\n",
    "            activation = sigmoid(z)\n",
    "            activations.append(activation) # 存储每一层的激活值\n",
    "\n",
    "        # 反向传播\n",
    "        delta = self.cost_derivative(activations[-1], y) * sigmoid_prime(zs[-1]) # 计算最后一层的delta\n",
    "        nabla_b[-1] = delta\n",
    "        nabla_w[-1] = np.dot(delta, activations[-2].transpose())\n",
    "\n",
    "        for l in range(2, self.num_layers):\n",
    "            z = zs[-l]\n",
    "            sp = sigmoid_prime(z)\n",
    "            delta = np.dot(self.weights[-l+1].transpose(), delta) * sp\n",
    "            nabla_b[-l] = delta\n",
    "            nabla_w[-l] = np.dot(delta, activations[-l-1].transpose())\n",
    "        return (nabla_b, nabla_w)\n",
    "    \n",
    "    def cost_derivative(self, output_activations, y):\n",
    "        return (output_activations-y)\n",
    "\n",
    "def sigmoid(z):\n",
    "    return 1.0/(1.0+np.exp(-z))\n",
    "\n",
    "def sigmoid_prime(z):\n",
    "    return sigmoid(z)*(1-sigmoid(z))"
   ]
  },
  {
   "cell_type": "code",
   "execution_count": 12,
   "metadata": {},
   "outputs": [],
   "source": [
    "# 数据预处理\n",
    "def vectorized_result(j):\n",
    "    e = np.zeros((10, 1))\n",
    "    e[j] = 1.0\n",
    "    return e\n",
    "\n",
    "training_inputs = [np.reshape(x, (784, 1)) for x in train_images]\n",
    "training_results = [vectorized_result(y) for y in train_labels]\n",
    "train_data = list(zip(training_inputs, training_results))\n",
    "\n",
    "test_inputs = [np.reshape(x, (784, 1)) for x in test_images]\n",
    "test_data = list(zip(test_inputs, test_labels))"
   ]
  },
  {
   "cell_type": "code",
   "execution_count": null,
   "metadata": {},
   "outputs": [
    {
     "name": "stderr",
     "output_type": "stream",
     "text": [
      "/var/folders/pl/ldmtqhjj0z96x86x2qwd0qpw0000gn/T/ipykernel_10289/1562310629.py:87: RuntimeWarning: overflow encountered in exp\n",
      "  return 1.0/(1.0+np.exp(-z))\n"
     ]
    },
    {
     "name": "stdout",
     "output_type": "stream",
     "text": [
      "Epoch 1: 44.86 %\n",
      "Epoch 2: 58.41 %\n",
      "Epoch 3: 62.88 %\n",
      "Epoch 4: 66.15 %\n",
      "Epoch 5: 70.45 %\n",
      "Epoch 6: 73.42 %\n",
      "Epoch 7: 75.02 %\n",
      "Epoch 8: 77.7 %\n",
      "Epoch 9: 79.31 %\n",
      "Epoch 10: 80.1 %\n",
      "Epoch 11: 81.11 %\n",
      "Epoch 12: 81.3 %\n",
      "Epoch 13: 80.72 %\n",
      "Epoch 14: 81.76 %\n",
      "Epoch 15: 82.53 %\n",
      "Epoch 16: 81.31 %\n",
      "Epoch 17: 83.61 %\n",
      "Epoch 18: 84.08 %\n",
      "Epoch 19: 85.35 %\n",
      "Epoch 20: 85.32 %\n",
      "Epoch 21: 84.74 %\n",
      "Epoch 22: 85.41 %\n",
      "Epoch 23: 85.07 %\n",
      "Epoch 24: 85.6 %\n",
      "Epoch 25: 85.13 %\n",
      "Epoch 26: 85.08 %\n",
      "Epoch 27: 85.13 %\n",
      "Epoch 28: 86.81 %\n",
      "Epoch 29: 86.35 %\n",
      "Epoch 30: 86.42 %\n",
      "Epoch 31: 86.51 %\n",
      "Epoch 32: 85.25 %\n",
      "Epoch 33: 87.69 %\n",
      "Epoch 34: 83.83 %\n",
      "Epoch 35: 87.18 %\n",
      "Epoch 36: 85.64 %\n",
      "Epoch 37: 86.94 %\n",
      "Epoch 38: 87.36 %\n",
      "Epoch 39: 87.44 %\n",
      "Epoch 40: 87.36 %\n",
      "Epoch 41: 86.69 %\n",
      "Epoch 42: 86.92 %\n",
      "Epoch 43: 87.81 %\n",
      "Epoch 44: 87.9 %\n",
      "Epoch 45: 86.65 %\n",
      "Epoch 46: 86.98 %\n",
      "Epoch 47: 87.19 %\n",
      "Epoch 48: 87.69 %\n",
      "Epoch 49: 85.88 %\n",
      "Epoch 50: 87.34 %\n",
      "Epoch 51: 88.03 %\n",
      "Epoch 52: 88.24 %\n",
      "Epoch 53: 85.82 %\n",
      "Epoch 54: 88.24 %\n",
      "Epoch 55: 87.45 %\n",
      "Epoch 56: 88.52 %\n",
      "Epoch 57: 88.17 %\n",
      "Epoch 58: 87.63 %\n",
      "Epoch 59: 87.25 %\n",
      "Epoch 60: 87.68 %\n",
      "Epoch 61: 87.36 %\n"
     ]
    }
   ],
   "source": [
    "\n",
    "net = network([784,30,10])\n",
    "net.SGD(train_data, 100, 10, 0.08, test_data=test_data)\n",
    "# 保存 net 对象到文件\n",
    "with open('network_model.pkl', 'wb') as f:\n",
    "    pickle.dump(net, f)\n",
    "    print('Model saved to file.') \n"
   ]
  }
 ],
 "metadata": {
  "kernelspec": {
   "display_name": "Python 3",
   "language": "python",
   "name": "python3"
  },
  "language_info": {
   "codemirror_mode": {
    "name": "ipython",
    "version": 3
   },
   "file_extension": ".py",
   "mimetype": "text/x-python",
   "name": "python",
   "nbconvert_exporter": "python",
   "pygments_lexer": "ipython3",
   "version": "3.11.4"
  }
 },
 "nbformat": 4,
 "nbformat_minor": 2
}
